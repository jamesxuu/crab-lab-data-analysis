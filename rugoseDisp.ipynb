{
 "cells": [
  {
   "cell_type": "code",
   "execution_count": 61,
   "metadata": {},
   "outputs": [],
   "source": [
    "import pandas as pd\n",
    "import os\n",
    "import numpy as np\n"
   ]
  },
  {
   "cell_type": "markdown",
   "metadata": {},
   "source": [
    "**Code Explanation:**\n",
    "\n",
    "- The code defines a Python function called `calculate_average_differences` that takes a directory path as input.\n",
    "- Within the function, it processes CSV files located in the specified directory for three trials **(Trials 1 to 3)**.\n",
    "- For each trial, it calculates the differences between the first and last elements of five columns (`Xpos_1` to `Xpos_5`) in the CSV data.\n",
    "- The differences and the number of elements in each column are stored in a dictionary for each trial.\n",
    "- The function then computes the average difference for each trial by summing the differences of the five columns and dividing by 5.\n",
    "- The average differences for each trial are collected in a list and returned as the output of the function.\n",
    "- The function is executed in the `if __name__ == \"__main__\":` block, where a sample directory path is provided, and the average differences are printed to the console.\n",
    "\n",
    "\n",
    "Important Note: Displacement is calculated by <mark>**Average Z-axis displacement**</mark>.\n"
   ]
  },
  {
   "cell_type": "code",
   "execution_count": 62,
   "metadata": {},
   "outputs": [],
   "source": [
    "def process_csv_file(file_path, selected_columns):\n",
    "    try:\n",
    "        df = pd.read_csv(file_path, header=None, skiprows=4, usecols=selected_columns)\n",
    "        data = {f\"Xpos_{i+1}\": df.iloc[:, i].values[3:] for i in range(len(selected_columns))}\n",
    "        return data\n",
    "    except FileNotFoundError:\n",
    "        print(f\"File {file_path} not found.\")\n",
    "        return None\n"
   ]
  },
  {
   "cell_type": "code",
   "execution_count": 63,
   "metadata": {},
   "outputs": [],
   "source": [
    "def calculate_difference(first_array, last_array):\n",
    "    first_array = np.array(first_array, dtype=np.float64)\n",
    "    last_array = np.array(last_array, dtype=np.float64)\n",
    "    return last_array - first_array"
   ]
  },
  {
   "cell_type": "code",
   "execution_count": 64,
   "metadata": {},
   "outputs": [],
   "source": [
    "def calculate_average_displacement(trial_diffs):\n",
    "    avg_displacement = {}\n",
    "    num_cols = 5  # Number of Xpos columns\n",
    "\n",
    "    for col_name in ['Xpos_1', 'Xpos_2', 'Xpos_3', 'Xpos_4', 'Xpos_5']:\n",
    "        total_diff = 0\n",
    "        total_num_elements = 0\n",
    "\n",
    "        for trial_num, trial_diff in trial_diffs.items():\n",
    "            if col_name in trial_diff:\n",
    "                total_diff += np.sum(trial_diff[col_name]['difference'])\n",
    "                total_num_elements += trial_diff[col_name]['num_elements']\n",
    "\n",
    "        if total_num_elements > 0:\n",
    "            avg_displacement[col_name] = total_diff / total_num_elements\n",
    "        else:\n",
    "            avg_displacement[col_name] = 0.0\n",
    "\n",
    "    return avg_displacement"
   ]
  },
  {
   "cell_type": "code",
   "execution_count": 65,
   "metadata": {},
   "outputs": [],
   "source": [
    "def process_trials(file_prefix, num_files, file_directory):\n",
    "    selected_columns = [4, 6, 10, 13, 16]\n",
    "    trial_diffs = {}\n",
    "\n",
    "    for trial_num in range(1, num_files + 1):\n",
    "        file_path = os.path.join(file_directory, f\"{file_prefix}_trail_{trial_num}.csv\")\n",
    "        Xpos_data_trial = process_csv_file(file_path, selected_columns)\n",
    "        if Xpos_data_trial:\n",
    "            print(f\"Trial {trial_num}:\")\n",
    "            print(Xpos_data_trial.keys())\n",
    "\n",
    "            Xpos_array_trial = {col_name: np.array(data_list) for col_name, data_list in Xpos_data_trial.items()}\n",
    "            trial_diffs[trial_num] = {}  # Create an empty dictionary to store differences for this trial\n",
    "\n",
    "            for col_name, data_array in Xpos_array_trial.items():\n",
    "                first_element = data_array[0]\n",
    "                last_element = data_array[-1]\n",
    "                difference = calculate_difference(first_element, last_element)\n",
    "\n",
    "                num_elements = len(data_array)  # Count the number of elements in the data_array\n",
    "\n",
    "                print(f\"{col_name} - First Element: {first_element}, Last Element: {last_element}, Difference: {difference}, Num Elements: {num_elements}\")\n",
    "                trial_diffs[trial_num][col_name] = {'difference': difference, 'num_elements': num_elements}\n",
    "\n",
    "    return trial_diffs"
   ]
  },
  {
   "cell_type": "code",
   "execution_count": 69,
   "metadata": {},
   "outputs": [
    {
     "name": "stdout",
     "output_type": "stream",
     "text": [
      "Trial 1:\n",
      "dict_keys(['Xpos_1', 'Xpos_2', 'Xpos_3', 'Xpos_4', 'Xpos_5'])\n",
      "Xpos_1 - First Element: 0.139881, Last Element: 0.569772, Difference: 0.4298909999999999, Num Elements: 4856\n",
      "Xpos_2 - First Element: 0.089553, Last Element: 0.063861, Difference: -0.025691999999999993, Num Elements: 4856\n",
      "Xpos_3 - First Element: 0.662351, Last Element: 1.097170, Difference: 0.43481899999999996, Num Elements: 4856\n",
      "Xpos_4 - First Element: -0.187926, Last Element: 0.224891, Difference: 0.412817, Num Elements: 4856\n",
      "Xpos_5 - First Element: -0.029357, Last Element: 0.400316, Difference: 0.429673, Num Elements: 4856\n",
      "Trial 2:\n",
      "dict_keys(['Xpos_1', 'Xpos_2', 'Xpos_3', 'Xpos_4', 'Xpos_5'])\n",
      "Xpos_1 - First Element: -0.218508, Last Element: 0.186440, Difference: 0.404948, Num Elements: 3886\n",
      "Xpos_2 - First Element: 0.086781, Last Element: 0.073920, Difference: -0.012860999999999997, Num Elements: 3886\n",
      "Xpos_3 - First Element: -0.046711, Last Element: 0.355336, Difference: 0.402047, Num Elements: 3886\n",
      "Xpos_4 - First Element: 0.459064, Last Element: 0.888701, Difference: 0.42963699999999994, Num Elements: 3886\n",
      "Xpos_5 - First Element: 0.617788, Last Element: 1.059673, Difference: 0.4418850000000001, Num Elements: 3886\n",
      "Trial 3:\n",
      "dict_keys(['Xpos_1', 'Xpos_2', 'Xpos_3', 'Xpos_4', 'Xpos_5'])\n",
      "Xpos_1 - First Element: 0.134312, Last Element: 0.539218, Difference: 0.404906, Num Elements: 4089\n",
      "Xpos_2 - First Element: 0.083979, Last Element: nan, Difference: nan, Num Elements: 4089\n",
      "Xpos_3 - First Element: 0.655075, Last Element: 1.062368, Difference: 0.407293, Num Elements: 4089\n",
      "Xpos_4 - First Element: 0.481233, Last Element: 0.891306, Difference: 0.410073, Num Elements: 4089\n",
      "Xpos_5 - First Element: -0.193953, Last Element: 0.189094, Difference: 0.383047, Num Elements: 4089\n",
      "\n",
      "Differences for Trial 1:\n",
      "Xpos_1: {'difference': 0.4298909999999999, 'num_elements': 4856}\n",
      "Xpos_2: {'difference': -0.025691999999999993, 'num_elements': 4856}\n",
      "Xpos_3: {'difference': 0.43481899999999996, 'num_elements': 4856}\n",
      "Xpos_4: {'difference': 0.412817, 'num_elements': 4856}\n",
      "Xpos_5: {'difference': 0.429673, 'num_elements': 4856}\n",
      "Average Displacement for Trial 1: 0.3363016\n",
      "\n",
      "Differences for Trial 2:\n",
      "Xpos_1: {'difference': 0.404948, 'num_elements': 3886}\n",
      "Xpos_2: {'difference': -0.012860999999999997, 'num_elements': 3886}\n",
      "Xpos_3: {'difference': 0.402047, 'num_elements': 3886}\n",
      "Xpos_4: {'difference': 0.42963699999999994, 'num_elements': 3886}\n",
      "Xpos_5: {'difference': 0.4418850000000001, 'num_elements': 3886}\n",
      "Average Displacement for Trial 2: 0.33313119999999996\n",
      "\n",
      "Differences for Trial 3:\n",
      "Xpos_1: {'difference': 0.404906, 'num_elements': 4089}\n",
      "Xpos_2: {'difference': nan, 'num_elements': 4089}\n",
      "Xpos_3: {'difference': 0.407293, 'num_elements': 4089}\n",
      "Xpos_4: {'difference': 0.410073, 'num_elements': 4089}\n",
      "Xpos_5: {'difference': 0.383047, 'num_elements': 4089}\n",
      "Average Displacement for Trial 3: nan\n"
     ]
    }
   ],
   "source": [
    "\n",
    "def main():\n",
    "    file_prefix = \"0724_cent_whiteRug_waveNum_3.0\"\n",
    "    num_files = 3\n",
    "    file_directory = \"/Users/jamesxu/Desktop/Crab Lab/tracking data CSV/CSV_0725_cent_whiteRug_waveNum\"\n",
    "\n",
    "    trial_diffs = process_trials(file_prefix, num_files, file_directory)\n",
    "\n",
    "    for trial_num, trial_diff in trial_diffs.items():\n",
    "        print(f\"\\nDifferences for Trial {trial_num}:\")\n",
    "        for col_name, diff_array in trial_diff.items():\n",
    "            print(f\"{col_name}: {diff_array}\")\n",
    "\n",
    "        # Calculate the average difference for Xpos1 to Xpos5 for this trial\n",
    "        avg_difference = sum(trial_diff[col_name]['difference'] for col_name in ['Xpos_1', 'Xpos_2', 'Xpos_3', 'Xpos_4', 'Xpos_5']) / 5\n",
    "        print(f\"Average Displacement for Trial {trial_num}: {avg_difference}\")\n",
    "        \n",
    "if __name__ == \"__main__\":\n",
    "    main()"
   ]
  },
  {
   "cell_type": "code",
   "execution_count": null,
   "metadata": {},
   "outputs": [],
   "source": []
  },
  {
   "cell_type": "code",
   "execution_count": null,
   "metadata": {},
   "outputs": [],
   "source": []
  }
 ],
 "metadata": {
  "kernelspec": {
   "display_name": "4020",
   "language": "python",
   "name": "python3"
  },
  "language_info": {
   "codemirror_mode": {
    "name": "ipython",
    "version": 3
   },
   "file_extension": ".py",
   "mimetype": "text/x-python",
   "name": "python",
   "nbconvert_exporter": "python",
   "pygments_lexer": "ipython3",
   "version": "3.10.4"
  },
  "orig_nbformat": 4
 },
 "nbformat": 4,
 "nbformat_minor": 2
}
