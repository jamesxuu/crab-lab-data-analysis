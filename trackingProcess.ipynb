{
 "cells": [
  {
   "cell_type": "code",
   "execution_count": 46,
   "metadata": {},
   "outputs": [],
   "source": [
    "import numpy as np\n",
    "import matplotlib.pyplot as plt\n",
    "from scipy.io import loadmat\n",
    "from matplotlib.animation import FuncAnimation\n",
    "\n",
    "# Import scienceplots and set the style\n",
    "import scienceplots\n",
    "def set_style():\n",
    "    sp.science_plot_defaults()  # Set the SciencePlots style\n",
    "\n"
   ]
  },
  {
   "cell_type": "code",
   "execution_count": null,
   "metadata": {},
   "outputs": [],
   "source": []
  },
  {
   "cell_type": "code",
   "execution_count": 47,
   "metadata": {},
   "outputs": [],
   "source": [
    "def visualize_data(Xpos, Zpos, title):\n",
    "    \"\"\"\n",
    "    Visualize the data by plotting the Xpos and Zpos for each tracker.\n",
    "    \"\"\"\n",
    "    set_style()  # Set the science style\n",
    "\n",
    "    # Set the unified window size for the plot\n",
    "    plt.figure(figsize=(12, 6))\n",
    "\n",
    "    fig, axs = plt.subplots(1, 2, figsize=(12, 5))\n",
    "    for i in range(Xpos.shape[1]):\n",
    "        axs[0].plot(Xpos[:, i], label=f'Tracker {i + 1}')\n",
    "        axs[1].plot(Zpos[:, i], label=f'Tracker {i + 1}')\n",
    "    axs[0].set_xlabel('Time')\n",
    "    axs[0].set_ylabel('Distance')\n",
    "    axs[0].legend()\n",
    "    axs[0].set_title('Horizontal Move (x-axis)')\n",
    "    axs[1].set_xlabel('Time')\n",
    "    axs[1].set_ylabel('Distance')\n",
    "    axs[1].legend(loc='lower left')\n",
    "    axs[1].set_title('Vertical Move (z-axis)')\n",
    "    plt.suptitle(title)\n",
    "    plt.show()"
   ]
  },
  {
   "cell_type": "code",
   "execution_count": 48,
   "metadata": {},
   "outputs": [],
   "source": [
    "\n",
    "def animate_trackers(Xpos, Ypos, Zpos, num_trackers):\n",
    "    \"\"\"\n",
    "    Animation function to animate the positions of the trackers over time.\n",
    "    \"\"\"\n",
    "    set_style()  # Set the science style\n",
    "    fig = plt.figure()\n",
    "    ax = fig.add_subplot(111, projection='3d')  # Create a 3D axes\n",
    "\n",
    "    def update(frame):\n",
    "        ax.cla()  # Clear the current plot\n",
    "\n",
    "        for i in range(num_trackers):\n",
    "            # Plot the Xpos, Ypos, and Zpos of each tracker at the current frame\n",
    "            ax.plot([Xpos[frame, i]], [Ypos[frame, i]], [Zpos[frame, i]], 'o', markersize=8, label=f'Tracker {i + 1}')\n",
    "\n",
    "        ax.set_xlabel('X Position')\n",
    "        ax.set_ylabel('Y Position')\n",
    "        ax.set_zlabel('Z Position')\n",
    "        ax.set_title(f'3D Tracking Animation (Frame {frame + 1})')\n",
    "        ax.legend(loc='upper right')\n",
    "\n",
    "    ani = FuncAnimation(fig, update, frames=Xpos.shape[0], interval=100)\n",
    "    plt.show()"
   ]
  },
  {
   "cell_type": "code",
   "execution_count": 49,
   "metadata": {},
   "outputs": [],
   "source": [
    "def plot_displacement(data):\n",
    "    \"\"\"\n",
    "    Plot the displacement of each tracker.\n",
    "    \"\"\"\n",
    "    set_style()  # Set the science style\n",
    "    trackers = data['tracker'].unique()\n",
    "    displacements = []\n",
    "\n",
    "    for tracker_num in trackers:\n",
    "        displacement = compute_displacement(data, tracker_num)\n",
    "        displacements.append(displacement)\n",
    "\n",
    "    plt.figure(figsize=(8, 6))\n",
    "    plt.bar(trackers, displacements)\n",
    "    plt.xlabel(\"Tracker Number\")\n",
    "    plt.ylabel(\"Displacement\")\n",
    "    plt.title(\"Displacement of Trackers\")\n",
    "    plt.show()"
   ]
  },
  {
   "cell_type": "code",
   "execution_count": 50,
   "metadata": {},
   "outputs": [],
   "source": [
    "def clean_data(Xpos, Zpos, valid_threshold):\n",
    "    \"\"\"\n",
    "    Clean the data by removing trackers with insufficient valid data.\n",
    "    \"\"\"\n",
    "    valid_trackers = [i for i in range(Xpos.shape[1]) if np.count_nonzero(~np.isnan(Xpos[:, i])) >= valid_threshold]\n",
    "    Xpos = Xpos[:, valid_trackers]\n",
    "    Zpos = Zpos[:, valid_trackers]\n",
    "    return Xpos, Zpos"
   ]
  },
  {
   "cell_type": "code",
   "execution_count": 51,
   "metadata": {},
   "outputs": [],
   "source": [
    "def plot_average_velocity(average_velocity):\n",
    "    \"\"\"\n",
    "    Plot the average velocity of all trackers.\n",
    "    \"\"\"\n",
    "    set_style()  # Set the science style\n",
    "    plt.figure(figsize=(8, 6))\n",
    "    plt.plot(average_velocity, label='Average Velocity')\n",
    "    plt.xlabel('Time')\n",
    "    plt.ylabel('Velocity')\n",
    "    plt.legend()\n",
    "    plt.title('Average Velocity of All Trackers')\n",
    "    plt.show()"
   ]
  },
  {
   "cell_type": "code",
   "execution_count": 52,
   "metadata": {},
   "outputs": [],
   "source": [
    "def calculate_velocity(Xpos, Zpos):\n",
    "    \"\"\"\n",
    "    Calculate the velocity of each tracker on the X-Z plane.\n",
    "    \"\"\"\n",
    "    num_frames = Xpos.shape[0]\n",
    "    num_trackers = Xpos.shape[1]\n",
    "    velocity = np.zeros((num_frames, num_trackers))\n",
    "\n",
    "    for i in range(num_trackers):\n",
    "        for j in range(1, num_frames):\n",
    "            delta_x = Xpos[j, i] - Xpos[j - 1, i]\n",
    "            delta_z = Zpos[j, i] - Zpos[j - 1, i]\n",
    "            time_interval = 1  # Assuming each frame has a time interval of 1 (you can change this if needed)\n",
    "            velocity[j, i] = np.sqrt(delta_x**2 + delta_z**2) / time_interval\n",
    "\n",
    "    return velocity\n"
   ]
  },
  {
   "cell_type": "code",
   "execution_count": 53,
   "metadata": {},
   "outputs": [
    {
     "name": "stderr",
     "output_type": "stream",
     "text": [
      "/var/folders/wv/gyf44h3j2j7_0l6h0jpy65mm0000gn/T/ipykernel_45687/1475145083.py:13: FutureWarning: The default value of regex will change from True to False in a future version.\n",
      "  data.columns = data.columns.str.strip().str.replace('[^a-zA-Z0-9]', '')\n",
      "No artists with labels found to put in legend.  Note that artists whose label start with an underscore are ignored when legend() is called with no argument.\n"
     ]
    },
    {
     "data": {
      "image/png": "[encoded data removed]",
      "text/plain": [
       "<Figure size 800x1000 with 3 Axes>"
      ]
     },
     "metadata": {},
     "output_type": "display_data"
    }
   ],
   "source": [
    "import pandas as pd\n",
    "import matplotlib.pyplot as plt\n",
    "\n",
    "def read_csv_data(file_path):\n",
    "    data = pd.read_csv(file_path, header=5, delimiter='\\t')\n",
    "    return data\n",
    "\n",
    "def clean_data(data, num_valid_trackers):\n",
    "    # Select only the necessary columns (X, Y, Z coordinates) and drop any NaN values\n",
    "    data = data.iloc[:, 2:].dropna()\n",
    "\n",
    "    # Clean column names by removing leading/trailing spaces and any special characters\n",
    "    data.columns = data.columns.str.strip().str.replace('[^a-zA-Z0-9]', '')\n",
    "\n",
    "    # Since we have multiple markers, we need to filter by the number of valid trackers\n",
    "    valid_trackers = data.columns[:num_valid_trackers]\n",
    "    data = data[valid_trackers]\n",
    "\n",
    "    return data\n",
    "\n",
    "def plot_coordinates(data):\n",
    "    num_trackers = len(data.columns)\n",
    "\n",
    "    fig, axs = plt.subplots(3, 1, figsize=(8, 10), sharex=True)\n",
    "\n",
    "    for i, coord in enumerate(['X', 'Y', 'Z']):\n",
    "        axs[i].set_ylabel(coord)\n",
    "        for j in range(num_trackers):\n",
    "            axs[i].plot(data.index, data[data.columns[j]][coord], label=f\"Tracker {j+1}\")\n",
    "\n",
    "    axs[2].set_xlabel(\"Frame\")\n",
    "    axs[0].legend(loc='upper right')\n",
    "    plt.show()\n",
    "\n",
    "if __name__ == \"__main__\":\n",
    "    file_path = '/Users/jamesxu/Desktop/Crab Lab/traking data CSV/CSV_0720_cent_flat_wave_Num/0720_cent_waveNum_0.6_trail_1.csv'\n",
    "    num_valid_trackers = 6  # Change this to the number of valid trackers in your data\n",
    "\n",
    "    data = read_csv_data(file_path)\n",
    "    cleaned_data = clean_data(data, num_valid_trackers)\n",
    "    plot_coordinates(cleaned_data)\n"
   ]
  },
  {
   "cell_type": "code",
   "execution_count": 54,
   "metadata": {},
   "outputs": [
    {
     "ename": "AttributeError",
     "evalue": "module 'scienceplots' has no attribute 'science_plot_defaults'",
     "output_type": "error",
     "traceback": [
      "\u001b[0;31m---------------------------------------------------------------------------\u001b[0m",
      "\u001b[0;31mAttributeError\u001b[0m                            Traceback (most recent call last)",
      "\u001b[1;32m/Users/jamesxu/Desktop/trackingProcessPython/trackingProcess.ipynb Cell 10\u001b[0m in \u001b[0;36m2\n\u001b[1;32m      <a href='vscode-notebook-cell:/Users/jamesxu/Desktop/trackingProcessPython/trackingProcess.ipynb#W5sZmlsZQ%3D%3D?line=0'>1</a>\u001b[0m \u001b[39mif\u001b[39;00m \u001b[39m__name__\u001b[39m \u001b[39m==\u001b[39m \u001b[39m\"\u001b[39m\u001b[39m__main__\u001b[39m\u001b[39m\"\u001b[39m:\n\u001b[0;32m----> <a href='vscode-notebook-cell:/Users/jamesxu/Desktop/trackingProcessPython/trackingProcess.ipynb#W5sZmlsZQ%3D%3D?line=1'>2</a>\u001b[0m     main()\n",
      "\u001b[1;32m/Users/jamesxu/Desktop/trackingProcessPython/trackingProcess.ipynb Cell 10\u001b[0m in \u001b[0;36m1\n\u001b[1;32m     <a href='vscode-notebook-cell:/Users/jamesxu/Desktop/trackingProcessPython/trackingProcess.ipynb#W5sZmlsZQ%3D%3D?line=9'>10</a>\u001b[0m Zpos \u001b[39m=\u001b[39m data[\u001b[39m'\u001b[39m\u001b[39mZpos\u001b[39m\u001b[39m'\u001b[39m]\n\u001b[1;32m     <a href='vscode-notebook-cell:/Users/jamesxu/Desktop/trackingProcessPython/trackingProcess.ipynb#W5sZmlsZQ%3D%3D?line=11'>12</a>\u001b[0m \u001b[39m# Visualize the original data\u001b[39;00m\n\u001b[0;32m---> <a href='vscode-notebook-cell:/Users/jamesxu/Desktop/trackingProcessPython/trackingProcess.ipynb#W5sZmlsZQ%3D%3D?line=12'>13</a>\u001b[0m visualize_data(Xpos, Zpos, title\u001b[39m=\u001b[39;49m\u001b[39m'\u001b[39;49m\u001b[39mOriginal Data\u001b[39;49m\u001b[39m'\u001b[39;49m)\n\u001b[1;32m     <a href='vscode-notebook-cell:/Users/jamesxu/Desktop/trackingProcessPython/trackingProcess.ipynb#W5sZmlsZQ%3D%3D?line=14'>15</a>\u001b[0m \u001b[39m# Set the valid data threshold (adjust this value as needed)\u001b[39;00m\n\u001b[1;32m     <a href='vscode-notebook-cell:/Users/jamesxu/Desktop/trackingProcessPython/trackingProcess.ipynb#W5sZmlsZQ%3D%3D?line=15'>16</a>\u001b[0m valid_threshold \u001b[39m=\u001b[39m \u001b[39m100\u001b[39m\n",
      "\u001b[1;32m/Users/jamesxu/Desktop/trackingProcessPython/trackingProcess.ipynb Cell 10\u001b[0m in \u001b[0;36m5\n\u001b[1;32m      <a href='vscode-notebook-cell:/Users/jamesxu/Desktop/trackingProcessPython/trackingProcess.ipynb#W5sZmlsZQ%3D%3D?line=0'>1</a>\u001b[0m \u001b[39mdef\u001b[39;00m \u001b[39mvisualize_data\u001b[39m(Xpos, Zpos, title):\n\u001b[1;32m      <a href='vscode-notebook-cell:/Users/jamesxu/Desktop/trackingProcessPython/trackingProcess.ipynb#W5sZmlsZQ%3D%3D?line=1'>2</a>\u001b[0m     \u001b[39m\"\"\"\u001b[39;00m\n\u001b[1;32m      <a href='vscode-notebook-cell:/Users/jamesxu/Desktop/trackingProcessPython/trackingProcess.ipynb#W5sZmlsZQ%3D%3D?line=2'>3</a>\u001b[0m \u001b[39m    Visualize the data by plotting the Xpos and Zpos for each tracker.\u001b[39;00m\n\u001b[1;32m      <a href='vscode-notebook-cell:/Users/jamesxu/Desktop/trackingProcessPython/trackingProcess.ipynb#W5sZmlsZQ%3D%3D?line=3'>4</a>\u001b[0m \u001b[39m    \"\"\"\u001b[39;00m\n\u001b[0;32m----> <a href='vscode-notebook-cell:/Users/jamesxu/Desktop/trackingProcessPython/trackingProcess.ipynb#W5sZmlsZQ%3D%3D?line=4'>5</a>\u001b[0m     set_style()  \u001b[39m# Set the science style\u001b[39;00m\n\u001b[1;32m      <a href='vscode-notebook-cell:/Users/jamesxu/Desktop/trackingProcessPython/trackingProcess.ipynb#W5sZmlsZQ%3D%3D?line=6'>7</a>\u001b[0m     \u001b[39m# Set the unified window size for the plot\u001b[39;00m\n\u001b[1;32m      <a href='vscode-notebook-cell:/Users/jamesxu/Desktop/trackingProcessPython/trackingProcess.ipynb#W5sZmlsZQ%3D%3D?line=7'>8</a>\u001b[0m     plt\u001b[39m.\u001b[39mfigure(figsize\u001b[39m=\u001b[39m(\u001b[39m12\u001b[39m, \u001b[39m6\u001b[39m))\n",
      "\u001b[1;32m/Users/jamesxu/Desktop/trackingProcessPython/trackingProcess.ipynb Cell 10\u001b[0m in \u001b[0;36m9\n\u001b[1;32m      <a href='vscode-notebook-cell:/Users/jamesxu/Desktop/trackingProcessPython/trackingProcess.ipynb#W5sZmlsZQ%3D%3D?line=7'>8</a>\u001b[0m \u001b[39mdef\u001b[39;00m \u001b[39mset_style\u001b[39m():\n\u001b[0;32m----> <a href='vscode-notebook-cell:/Users/jamesxu/Desktop/trackingProcessPython/trackingProcess.ipynb#W5sZmlsZQ%3D%3D?line=8'>9</a>\u001b[0m     sp\u001b[39m.\u001b[39;49mscience_plot_defaults()\n",
      "\u001b[0;31mAttributeError\u001b[0m: module 'scienceplots' has no attribute 'science_plot_defaults'"
     ]
    }
   ],
   "source": [
    "if __name__ == \"__main__\":\n",
    "    main()"
   ]
  },
  {
   "cell_type": "code",
   "execution_count": null,
   "metadata": {},
   "outputs": [],
   "source": []
  },
  {
   "cell_type": "code",
   "execution_count": null,
   "metadata": {},
   "outputs": [],
   "source": []
  }
 ],
 "metadata": {
  "kernelspec": {
   "display_name": "4020",
   "language": "python",
   "name": "python3"
  },
  "language_info": {
   "codemirror_mode": {
    "name": "ipython",
    "version": 3
   },
   "file_extension": ".py",
   "mimetype": "text/x-python",
   "name": "python",
   "nbconvert_exporter": "python",
   "pygments_lexer": "ipython3",
   "version": "3.10.4"
  },
  "orig_nbformat": 4
 },
 "nbformat": 4,
 "nbformat_minor": 2
}
