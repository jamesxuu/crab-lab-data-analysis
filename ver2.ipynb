{
 "cells": [
  {
   "cell_type": "code",
   "execution_count": 30,
   "metadata": {},
   "outputs": [],
   "source": [
    "import pandas as pd\n",
    "import os\n",
    "import numpy as np\n"
   ]
  },
  {
   "cell_type": "code",
   "execution_count": 31,
   "metadata": {},
   "outputs": [],
   "source": [
    "def process_csv_file(file_path, selected_columns):\n",
    "    try:\n",
    "        df = pd.read_csv(file_path, header=None, skiprows=4, usecols=selected_columns)\n",
    "        data = {f\"Xpos_{i+1}\": df.iloc[:, i].values[3:] for i in range(len(selected_columns))}\n",
    "        return data\n",
    "    except FileNotFoundError:\n",
    "        print(f\"File {file_path} not found.\")\n",
    "        return None\n"
   ]
  },
  {
   "cell_type": "code",
   "execution_count": 32,
   "metadata": {},
   "outputs": [],
   "source": [
    "def calculate_difference(first_array, last_array):\n",
    "    first_array = np.array(first_array, dtype=np.float64)\n",
    "    last_array = np.array(last_array, dtype=np.float64)\n",
    "    return last_array - first_array"
   ]
  },
  {
   "cell_type": "code",
   "execution_count": 33,
   "metadata": {},
   "outputs": [],
   "source": [
    "def calculate_average_displacement(trial_diffs):\n",
    "    avg_displacement = {}\n",
    "    num_cols = 4  # Number of Xpos columns\n",
    "\n",
    "    for col_name in ['Xpos_1', 'Xpos_2', 'Xpos_3', 'Xpos_4']:\n",
    "        total_diff = 0\n",
    "        total_num_elements = 0\n",
    "\n",
    "        for trial_num, trial_diff in trial_diffs.items():\n",
    "            if col_name in trial_diff:\n",
    "                total_diff += np.sum(trial_diff[col_name]['difference'])\n",
    "                total_num_elements += trial_diff[col_name]['num_elements']\n",
    "\n",
    "        if total_num_elements > 0:\n",
    "            avg_displacement[col_name] = total_diff / total_num_elements\n",
    "        else:\n",
    "            avg_displacement[col_name] = 0.0\n",
    "\n",
    "    return avg_displacement"
   ]
  },
  {
   "cell_type": "code",
   "execution_count": 34,
   "metadata": {},
   "outputs": [],
   "source": [
    "def process_trials(file_prefix, num_files, file_directory):\n",
    "    selected_columns = [2, 5, 8, 11]\n",
    "    trial_diffs = {}\n",
    "\n",
    "    for trial_num in range(1, num_files + 1):\n",
    "        file_path = os.path.join(file_directory, f\"{file_prefix}_trial_{trial_num}.csv\")\n",
    "        Xpos_data_trial = process_csv_file(file_path, selected_columns)\n",
    "        if Xpos_data_trial:\n",
    "            print(f\"Trial {trial_num}:\")\n",
    "            print(Xpos_data_trial.keys())\n",
    "\n",
    "            Xpos_array_trial = {col_name: np.array(data_list) for col_name, data_list in Xpos_data_trial.items()}\n",
    "            trial_diffs[trial_num] = {}  # Create an empty dictionary to store differences for this trial\n",
    "\n",
    "            for col_name, data_array in Xpos_array_trial.items():\n",
    "                first_element = data_array[0]\n",
    "                last_element = data_array[-1]\n",
    "                difference = calculate_difference(first_element, last_element)\n",
    "\n",
    "                num_elements = len(data_array)  # Count the number of elements in the data_array\n",
    "\n",
    "                print(f\"{col_name} - First Element: {first_element}, Last Element: {last_element}, Difference: {difference}, Num Elements: {num_elements}\")\n",
    "                trial_diffs[trial_num][col_name] = {'difference': difference, 'num_elements': num_elements}\n",
    "\n",
    "    return trial_diffs"
   ]
  },
  {
   "cell_type": "code",
   "execution_count": null,
   "metadata": {},
   "outputs": [],
   "source": []
  },
  {
   "cell_type": "code",
   "execution_count": 35,
   "metadata": {},
   "outputs": [
    {
     "name": "stderr",
     "output_type": "stream",
     "text": [
      "/var/folders/wv/gyf44h3j2j7_0l6h0jpy65mm0000gn/T/ipykernel_82451/1677275334.py:7: DtypeWarning: Columns (2,5,8,11) have mixed types.Specify dtype option on import or set low_memory=False.\n",
      "  Xpos_data_trial = process_csv_file(file_path, selected_columns)\n"
     ]
    },
    {
     "name": "stdout",
     "output_type": "stream",
     "text": [
      "Trial 1:\n",
      "dict_keys(['Xpos_1', 'Xpos_2', 'Xpos_3', 'Xpos_4'])\n",
      "Xpos_1 - First Element: 0.009722, Last Element: 1.455797, Difference: 1.446075, Num Elements: 9356\n",
      "Xpos_2 - First Element: -0.069455, Last Element: 1.311638, Difference: 1.3810930000000001, Num Elements: 9356\n",
      "Xpos_3 - First Element: -0.204316, Last Element: 1.311638, Difference: 1.515954, Num Elements: 9356\n",
      "Xpos_4 - First Element: -0.119932, Last Element: 1.363786, Difference: 1.4837179999999999, Num Elements: 9356\n",
      "Trial 2:\n",
      "dict_keys(['Xpos_1', 'Xpos_2', 'Xpos_3', 'Xpos_4'])\n",
      "Xpos_1 - First Element: 0.106062, Last Element: nan, Difference: nan, Num Elements: 14886\n",
      "Xpos_2 - First Element: -0.023646, Last Element: nan, Difference: nan, Num Elements: 14886\n",
      "Xpos_3 - First Element: 0.026729, Last Element: nan, Difference: nan, Num Elements: 14886\n",
      "Xpos_4 - First Element: -0.107321, Last Element: nan, Difference: nan, Num Elements: 14886\n",
      "Trial 3:\n",
      "dict_keys(['Xpos_1', 'Xpos_2', 'Xpos_3', 'Xpos_4'])\n",
      "Xpos_1 - First Element: -0.013107, Last Element: 1.253831, Difference: 1.266938, Num Elements: 16367\n",
      "Xpos_2 - First Element: -0.092334, Last Element: 1.182989, Difference: 1.275323, Num Elements: 16367\n",
      "Xpos_3 - First Element: -0.142677, Last Element: 1.157827, Difference: 1.3005039999999999, Num Elements: 16367\n",
      "Xpos_4 - First Element: -0.226777, Last Element: 1.097722, Difference: 1.324499, Num Elements: 16367\n",
      "\n",
      "Differences for Trial 1:\n",
      "Xpos_1: {'difference': 1.446075, 'num_elements': 9356}\n",
      "Xpos_2: {'difference': 1.3810930000000001, 'num_elements': 9356}\n",
      "Xpos_3: {'difference': 1.515954, 'num_elements': 9356}\n",
      "Xpos_4: {'difference': 1.4837179999999999, 'num_elements': 9356}\n",
      "Average Displacement for Trial 1: 1.45671\n",
      "\n",
      "Differences for Trial 2:\n",
      "Xpos_1: {'difference': nan, 'num_elements': 14886}\n",
      "Xpos_2: {'difference': nan, 'num_elements': 14886}\n",
      "Xpos_3: {'difference': nan, 'num_elements': 14886}\n",
      "Xpos_4: {'difference': nan, 'num_elements': 14886}\n",
      "Average Displacement for Trial 2: nan\n",
      "\n",
      "Differences for Trial 3:\n",
      "Xpos_1: {'difference': 1.266938, 'num_elements': 16367}\n",
      "Xpos_2: {'difference': 1.275323, 'num_elements': 16367}\n",
      "Xpos_3: {'difference': 1.3005039999999999, 'num_elements': 16367}\n",
      "Xpos_4: {'difference': 1.324499, 'num_elements': 16367}\n",
      "Average Displacement for Trial 3: 1.291816\n"
     ]
    }
   ],
   "source": [
    "\n",
    "def main():\n",
    "    file_prefix = \"0718_hex_fw_2\"\n",
    "    num_files = 3\n",
    "    file_directory = \"/Users/jamesxu/Desktop/Crab Lab/tracking data CSV/CSV_0718_hex_fw\"\n",
    "\n",
    "    trial_diffs = process_trials(file_prefix, num_files, file_directory)\n",
    "\n",
    "    for trial_num, trial_diff in trial_diffs.items():\n",
    "        print(f\"\\nDifferences for Trial {trial_num}:\")\n",
    "        for col_name, diff_array in trial_diff.items():\n",
    "            print(f\"{col_name}: {diff_array}\")\n",
    "\n",
    "        # Calculate the average difference for Xpos1 to Xpos4 for this trial\n",
    "        avg_difference = sum(trial_diff[col_name]['difference'] for col_name in ['Xpos_1', 'Xpos_2', 'Xpos_3', 'Xpos_4']) / 4\n",
    "        print(f\"Average Displacement for Trial {trial_num}: {avg_difference}\")\n",
    "        \n",
    "if __name__ == \"__main__\":\n",
    "    main()"
   ]
  },
  {
   "cell_type": "code",
   "execution_count": null,
   "metadata": {},
   "outputs": [],
   "source": []
  }
 ],
 "metadata": {
  "kernelspec": {
   "display_name": "4020",
   "language": "python",
   "name": "python3"
  },
  "language_info": {
   "codemirror_mode": {
    "name": "ipython",
    "version": 3
   },
   "file_extension": ".py",
   "mimetype": "text/x-python",
   "name": "python",
   "nbconvert_exporter": "python",
   "pygments_lexer": "ipython3",
   "version": "3.10.4"
  },
  "orig_nbformat": 4
 },
 "nbformat": 4,
 "nbformat_minor": 2
}
